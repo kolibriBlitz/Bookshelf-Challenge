{
 "cells": [
  {
   "cell_type": "markdown",
   "metadata": {},
   "source": [
    "# Setup"
   ]
  },
  {
   "cell_type": "code",
   "execution_count": null,
   "metadata": {
    "_cell_guid": "b1076dfc-b9ad-4769-8c92-a6c4dae69d19",
    "_uuid": "8f2839f25d086af736a60e9eeb907d3b93b6e0e5",
    "execution": {
     "iopub.execute_input": "2025-07-22T16:41:57.854662Z",
     "iopub.status.busy": "2025-07-22T16:41:57.854329Z",
     "iopub.status.idle": "2025-07-22T16:41:59.233085Z",
     "shell.execute_reply": "2025-07-22T16:41:59.232348Z",
     "shell.execute_reply.started": "2025-07-22T16:41:57.854641Z"
    },
    "trusted": true
   },
   "outputs": [],
   "source": [
    "# This Python 3 environment comes with many helpful analytics libraries installed\n",
    "# It is defined by the kaggle/python Docker image: https://github.com/kaggle/docker-python\n",
    "# For example, here's several helpful packages to load\n",
    "\n",
    "import numpy as np # linear algebra\n",
    "import pandas as pd # data processing, CSV file I/O (e.g. pd.read_csv)\n",
    "\n",
    "# Input data files are available in the read-only \"../input/\" directory\n",
    "# For example, running this (by clicking run or pressing Shift+Enter) will list all files under the input directory\n",
    "\n",
    "import os\n",
    "for dirname, _, filenames in os.walk('/kaggle/input'):\n",
    "    for filename in filenames:\n",
    "        print(os.path.join(dirname, filename))\n",
    "\n",
    "# You can write up to 20GB to the current directory (/kaggle/working/) that gets preserved as output when you create a version using \"Save & Run All\" \n",
    "# You can also write temporary files to /kaggle/temp/, but they won't be saved outside of the current session\n",
    "\n",
    "import datetime #for data type changes\n",
    "import matplotlib as mpl #for visualizations\n",
    "import matplotlib.pyplot as plt\n",
    "import matplotlib.ticker as ticker\n",
    "import seaborn as sns\n",
    "import sklearn as sk #for machine learning analysis methods\n",
    "import random #for random gen\n",
    "print('All done!')"
   ]
  },
  {
   "cell_type": "code",
   "execution_count": null,
   "metadata": {
    "execution": {
     "iopub.execute_input": "2025-07-22T14:10:21.286530Z",
     "iopub.status.busy": "2025-07-22T14:10:21.286221Z",
     "iopub.status.idle": "2025-07-22T14:10:21.291030Z",
     "shell.execute_reply": "2025-07-22T14:10:21.290011Z",
     "shell.execute_reply.started": "2025-07-22T14:10:21.286510Z"
    },
    "trusted": true
   },
   "outputs": [],
   "source": [
    "from IPython.core.interactiveshell import InteractiveShell \n",
    "InteractiveShell.ast_node_interactivity = \"all\"\n",
    "#to allow multiple outputs from one code cell"
   ]
  },
  {
   "cell_type": "markdown",
   "metadata": {},
   "source": [
    "# Import\n",
    "\n",
    "Data connected. Now to read it into some data frame variables!"
   ]
  },
  {
   "cell_type": "code",
   "execution_count": null,
   "metadata": {
    "execution": {
     "iopub.execute_input": "2025-07-22T14:14:38.321759Z",
     "iopub.status.busy": "2025-07-22T14:14:38.320632Z",
     "iopub.status.idle": "2025-07-22T14:14:38.534065Z",
     "shell.execute_reply": "2025-07-22T14:14:38.533294Z",
     "shell.execute_reply.started": "2025-07-22T14:14:38.321730Z"
    },
    "trusted": true
   },
   "outputs": [],
   "source": [
    "book_list=pd.read_csv(\"goodreads_works.csv\") #index_col='work_id' added after taking more kaggle courses, then removed because it screws everything up downstream\n",
    "#reviews=pd.read_csv(\"/kaggle/input/book-reviews/goodreads_reviews.csv\")"
   ]
  },
  {
   "cell_type": "markdown",
   "metadata": {},
   "source": [
    "**New Error Unlocked**\n",
    "/tmp/ipykernel_36/3857527195.py:2: DtypeWarning: Columns (3) have mixed types. Specify dtype option on import or set low_memory=False.\n",
    "  reviews=pd.read_csv(\"/kaggle/input/book-reviews/goodreads_reviews.csv\")"
   ]
  },
  {
   "cell_type": "markdown",
   "metadata": {},
   "source": [
    "Pulling the data dictionary into a data frame to get an idea of what columns might be throwing mixed types. Also checking the stats of Kaggle's data model pages. That did not shed any light on things..."
   ]
  },
  {
   "cell_type": "code",
   "execution_count": null,
   "metadata": {
    "execution": {
     "iopub.execute_input": "2025-07-22T14:10:47.326617Z",
     "iopub.status.busy": "2025-07-22T14:10:47.325766Z",
     "iopub.status.idle": "2025-07-22T14:11:21.034293Z",
     "shell.execute_reply": "2025-07-22T14:11:21.033350Z",
     "shell.execute_reply.started": "2025-07-22T14:10:47.326583Z"
    },
    "trusted": true
   },
   "outputs": [],
   "source": [
    "FAQ=pd.read_csv(\"/kaggle/input/book-reviews/goodreads_data_dictionary.csv\")\n",
    "FAQ\n",
    "#low_memory=False #did not help on this line\n",
    "reviews=pd.read_csv(\"/kaggle/input/book-reviews/goodreads_reviews.csv\",low_memory=False) #pandas documentation is not an easy read, so this was a natual second step\n",
    "reviews.work_id.value_counts()"
   ]
  },
  {
   "cell_type": "markdown",
   "metadata": {},
   "source": [
    "## Data Exploration - Reviews\n",
    "First let's see which columns had the mixed types..."
   ]
  },
  {
   "cell_type": "code",
   "execution_count": null,
   "metadata": {
    "execution": {
     "iopub.execute_input": "2025-07-17T14:08:07.841674Z",
     "iopub.status.busy": "2025-07-17T14:08:07.841260Z",
     "iopub.status.idle": "2025-07-17T14:08:07.861215Z",
     "shell.execute_reply": "2025-07-17T14:08:07.860318Z",
     "shell.execute_reply.started": "2025-07-17T14:08:07.841646Z"
    },
    "trusted": true
   },
   "outputs": [],
   "source": [
    "dtypes=pd.DataFrame({'review_id': reviews.review_id.dtype,'user_id': reviews.user_id.dtype,'work_id':reviews.work_id.dtype,'started_at':reviews.work_id.dtype,'read_at':reviews.work_id.dtype,'date_added':reviews.work_id.dtype,'rating':reviews.work_id.dtype,'review_text':reviews.work_id.dtype,'n_votes':reviews.work_id.dtype,'n_comments':reviews.work_id.dtype},index=[0])\n",
    "dtypes\n",
    "reviews.dtypes"
   ]
  },
  {
   "cell_type": "markdown",
   "metadata": {},
   "source": [
    "Well, I am going to guess that the three columns being the issue are 'started_at', 'read_at' and 'date_added' because I would think they should be date/time fields, yet they are reporting as int.\n",
    "\n",
    "***Oh my god! I went back to a different lesson in Pandas and found the simple way to get the types of the columns.***\n",
    "😫😲 Now I am embarrassed, but *silver lining* I practiced creating data frames and now I will never forget this command exists! I came up here first because I just copied and pasted the code from the lesson (reviews.dtypes) so I didn't know it existed before going and working on the book_list table.\n",
    "\n",
    "Next, I am going to look at value counts per column and nulls."
   ]
  },
  {
   "cell_type": "code",
   "execution_count": null,
   "metadata": {
    "execution": {
     "iopub.execute_input": "2025-07-16T19:25:56.204407Z",
     "iopub.status.busy": "2025-07-16T19:25:56.203998Z",
     "iopub.status.idle": "2025-07-16T19:26:00.455330Z",
     "shell.execute_reply": "2025-07-16T19:26:00.454508Z",
     "shell.execute_reply.started": "2025-07-16T19:25:56.204384Z"
    },
    "trusted": true
   },
   "outputs": [],
   "source": [
    "reviews.review_id.value_counts()\n",
    "reviews.review_id.isnull().sum()\n",
    "reviews.user_id.value_counts()\n",
    "reviews.user_id.isnull().sum()\n",
    "reviews.work_id.value_counts()\n",
    "reviews.work_id.isnull().sum()\n",
    "reviews.started_at.value_counts()\n",
    "reviews.started_at.isnull().sum()\n",
    "reviews.read_at.value_counts()\n",
    "reviews.read_at.isnull().sum()\n",
    "reviews.date_added.value_counts()\n",
    "reviews.date_added.isnull().sum()\n",
    "reviews.rating.value_counts()\n",
    "reviews.rating.isnull().sum()\n",
    "reviews.review_text.value_counts()\n",
    "reviews.review_text.isnull().sum()\n",
    "reviews.n_votes.value_counts()\n",
    "reviews.n_votes.isnull().sum()\n",
    "reviews.n_comments.value_counts()\n",
    "reviews.n_comments.isnull().sum()"
   ]
  },
  {
   "cell_type": "markdown",
   "metadata": {},
   "source": [
    "* review_id: all values unique, no nulls\n",
    "* user_id: 18800 unique values, no nulls\n",
    "* work_id: 13525 unique values, no nulls\n",
    "* started_at: 3797 unique values, 347495 nulls\n",
    "* read_at: 5868 unique values, 112122 nulls\n",
    "* date_added: 3919 unique values, no nulls\n",
    "* rating: 5 unique values, 37318 nulls\n",
    "* review_text:1130794 unique values, no nulls\n",
    "* n_votes: 605 unique values, no nulls\n",
    "* n_comments: 228 unique values, no nulls"
   ]
  },
  {
   "cell_type": "markdown",
   "metadata": {},
   "source": [
    "I wonder if the null ratings have reviews. Perhaps I can impute a rating based on the review. There are 37318 though, so if I choose to impute, I'd need to use a function that has a reliable filter, e.g., if review contains '!' & 'good' = 5.0, if review contains 'good' = 4.0, etc."
   ]
  },
  {
   "cell_type": "code",
   "execution_count": null,
   "metadata": {
    "execution": {
     "iopub.execute_input": "2025-07-16T19:26:00.457025Z",
     "iopub.status.busy": "2025-07-16T19:26:00.456666Z",
     "iopub.status.idle": "2025-07-16T19:26:00.482008Z",
     "shell.execute_reply": "2025-07-16T19:26:00.481132Z",
     "shell.execute_reply.started": "2025-07-16T19:26:00.456994Z"
    },
    "trusted": true
   },
   "outputs": [],
   "source": [
    "reviews.loc[reviews.rating.isnull()==True]"
   ]
  },
  {
   "cell_type": "markdown",
   "metadata": {},
   "source": [
    "Based on these results, there doesn't seem to be a reliable way to impute an accurate rating. Also, some reviews aren't indicative of the essence of the book. "
   ]
  },
  {
   "cell_type": "markdown",
   "metadata": {},
   "source": [
    "Checking some of the quantifiable options..."
   ]
  },
  {
   "cell_type": "code",
   "execution_count": null,
   "metadata": {
    "execution": {
     "iopub.execute_input": "2025-07-16T19:26:00.483579Z",
     "iopub.status.busy": "2025-07-16T19:26:00.483247Z",
     "iopub.status.idle": "2025-07-16T19:26:00.664376Z",
     "shell.execute_reply": "2025-07-16T19:26:00.663619Z",
     "shell.execute_reply.started": "2025-07-16T19:26:00.483550Z"
    },
    "trusted": true
   },
   "outputs": [],
   "source": [
    "round(reviews.describe(),2)\n",
    "reviews.n_votes.max()\n",
    "reviews.n_votes.min()\n",
    "reviews.n_votes.mean()\n",
    "reviews.n_votes.median()\n",
    "reviews.rating.mean()\n",
    "37318/1143887 #percent of ratings with null"
   ]
  },
  {
   "cell_type": "markdown",
   "metadata": {},
   "source": [
    "n_votes may or may not be useful as it's heavily skewed...may give less weight if used"
   ]
  },
  {
   "cell_type": "markdown",
   "metadata": {},
   "source": [
    "## Data Exploration - Works"
   ]
  },
  {
   "cell_type": "code",
   "execution_count": null,
   "metadata": {
    "execution": {
     "iopub.execute_input": "2025-07-17T15:44:36.144752Z",
     "iopub.status.busy": "2025-07-17T15:44:36.144434Z",
     "iopub.status.idle": "2025-07-17T15:44:36.162465Z",
     "shell.execute_reply": "2025-07-17T15:44:36.161689Z",
     "shell.execute_reply.started": "2025-07-17T15:44:36.144728Z"
    },
    "trusted": true
   },
   "outputs": [],
   "source": [
    "book_list.head()"
   ]
  },
  {
   "cell_type": "markdown",
   "metadata": {},
   "source": [
    "Well, I don't think I need to keep image_url for my purposes. I also want to get a count on nulls in isbn and isbn13 because that data should be available, but the work involved if it's alot...\n",
    "Kaggle didn't throw a data type error for this table, but I want to confirm what the are."
   ]
  },
  {
   "cell_type": "code",
   "execution_count": null,
   "metadata": {
    "execution": {
     "iopub.execute_input": "2025-07-17T13:41:28.161086Z",
     "iopub.status.busy": "2025-07-17T13:41:28.160781Z",
     "iopub.status.idle": "2025-07-17T13:41:28.171965Z",
     "shell.execute_reply": "2025-07-17T13:41:28.171088Z",
     "shell.execute_reply.started": "2025-07-17T13:41:28.161063Z"
    },
    "trusted": true
   },
   "outputs": [],
   "source": [
    "#book_list.describe()\n",
    "data_types=pd.DataFrame({'work_id':book_list.work_id.dtype,'isbn':book_list.isbn.dtype,'isbn13':book_list.isbn13.dtype,'orig_pub_yr':book_list.original_publication_year.dtype,'num_pages':book_list.num_pages.dtype,'description':book_list.description.dtype,'genres':book_list.genres.dtype,'num_reviews':book_list.reviews_count.dtype,'num_text_reviews':book_list.text_reviews_count.dtype,'num_5stars':book_list['5_star_ratings'].dtype,'num_4stars':book_list['4_star_ratings'].dtype,'num_3stars':book_list['3_star_ratings'].dtype,'num_2stars':book_list['2_star_ratings'].dtype,'num_1stars':book_list['1_star_ratings'].dtype, 'num_ratings': book_list.ratings_count.dtype,'avg_rating':book_list.avg_rating.dtype,'similar_books':book_list.similar_books.dtype},index=[0])\n",
    "data_types\n",
    "#book_list.5_star_ratings #invalid\n",
    "#book_list['5_star_ratings'] #valid\n",
    "#book_list.description[1]\n",
    "book_list.dtypes\n"
   ]
  },
  {
   "cell_type": "markdown",
   "metadata": {},
   "source": [
    "That was fun figuring out the correct way to select a column that starts with a digit!\n",
    "Also, I wish I knew about how you can call dtypes on the data frame before...it's nice not having to horizontally scroll. \n",
    "Type recommendations have been recorded and now we move on the the null testing..."
   ]
  },
  {
   "cell_type": "markdown",
   "metadata": {},
   "source": [
    "I added in this code section to check for duplicates in the key field because \"remove duplicates was part of my project\" and I wanted to make sure...we know what happens when you assume."
   ]
  },
  {
   "cell_type": "code",
   "execution_count": null,
   "metadata": {
    "execution": {
     "iopub.execute_input": "2025-07-16T19:26:00.729014Z",
     "iopub.status.busy": "2025-07-16T19:26:00.728700Z",
     "iopub.status.idle": "2025-07-16T19:26:00.750235Z",
     "shell.execute_reply": "2025-07-16T19:26:00.749131Z",
     "shell.execute_reply.started": "2025-07-16T19:26:00.728991Z"
    },
    "trusted": true
   },
   "outputs": [],
   "source": [
    "book_list.work_id.value_counts()\n",
    "book_list.shape"
   ]
  },
  {
   "cell_type": "code",
   "execution_count": null,
   "metadata": {
    "execution": {
     "iopub.execute_input": "2025-07-16T19:26:00.751437Z",
     "iopub.status.busy": "2025-07-16T19:26:00.751178Z",
     "iopub.status.idle": "2025-07-16T19:26:00.825035Z",
     "shell.execute_reply": "2025-07-16T19:26:00.824028Z",
     "shell.execute_reply.started": "2025-07-16T19:26:00.751417Z"
    },
    "trusted": true
   },
   "outputs": [],
   "source": [
    "book_list.work_id.isnull().sum()\n",
    "book_list.isbn.isnull().sum()\n",
    "book_list.isbn13.isnull().sum()\n",
    "book_list.original_publication_year.isnull().sum()\n",
    "book_list.num_pages.isnull().sum()\n",
    "book_list.description.isnull().sum()\n",
    "book_list.genres.isnull().sum()\n",
    "book_list.reviews_count.isnull().sum()\n",
    "book_list.text_reviews_count.isnull().sum()\n",
    "book_list['5_star_ratings'].isnull().sum()\n",
    "book_list['4_star_ratings'].isnull().sum()\n",
    "book_list['3_star_ratings'].isnull().sum()\n",
    "book_list['2_star_ratings'].isnull().sum()\n",
    "book_list['1_star_ratings'].isnull().sum()\n",
    "book_list.ratings_count.isnull().sum()\n",
    "book_list.avg_rating.isnull().sum()\n",
    "book_list.similar_books.isnull().sum()"
   ]
  },
  {
   "cell_type": "markdown",
   "metadata": {},
   "source": [
    "I find it odd that there are so many nulls in isbn and isbn13. ISBNs are to books as SSNs are to natural-born US citizens. Right now it is not worth it to look up all those missing values.\n",
    "I can find 18 publication years...that could be useful when curating a reading list. Number of pages would likewise be useful, but right now 730 missing values is not worth figuring out how to find."
   ]
  },
  {
   "cell_type": "markdown",
   "metadata": {},
   "source": [
    "Looking deeper into the anomalies of num_pages...\n",
    "* statistics are weird\n",
    "* low page books aren't unusual, but after checking a few, they are more than likely incorrect"
   ]
  },
  {
   "cell_type": "code",
   "execution_count": null,
   "metadata": {
    "execution": {
     "iopub.execute_input": "2025-07-16T19:26:00.826138Z",
     "iopub.status.busy": "2025-07-16T19:26:00.825894Z",
     "iopub.status.idle": "2025-07-16T19:26:00.856036Z",
     "shell.execute_reply": "2025-07-16T19:26:00.854957Z",
     "shell.execute_reply.started": "2025-07-16T19:26:00.826119Z"
    },
    "trusted": true
   },
   "outputs": [],
   "source": [
    "book_list.num_pages.describe()\n",
    "book_list.loc[book_list.num_pages.isnull()==True]"
   ]
  },
  {
   "cell_type": "markdown",
   "metadata": {},
   "source": [
    "## Findings and Action Items\n",
    "### Reviews Table\n",
    "* Data type of started_at, read_at and date_added should be changed from int64 to date/time.\n",
    "* Data type of review_id, user_id and review_text should be changed from object to string.\n",
    "* Significant amount of nulls in started_at, read_at and rating. Recommend eliminating started_at and read_at due to lack of relevance to book recommendation.\n",
    "* 3% of rows in rating are null. Propose two options:\n",
    "    * Impute the average rating value of 3.8\n",
    "    * Replace with N/A or None (eliminates mathematical operations for analysis)\n",
    "* Recommend putting less weight on using rating as an input for recommendation or having a null rating handler function\n",
    "\n",
    "### Book_List Table\n",
    "* isbn and isbn13 should be same type, can change to int or string\n",
    "* original_publish_year can be changed from float to date/time\n",
    "* num_pages should be changed to int\n",
    "* Description can be changed to string\n",
    "    * Consider removing the \\n coding during transformation\n",
    "* Recommendations for nulls\n",
    "    * isbn and isbn13 replace with Missing if a test shows that 1% do exist but aren't listed, replace with None or Unknown if 1% cannot be found\n",
    "    * Research original publish years and add values\n",
    "    * descriptions replace with Missing\n",
    "    * num_pages consider how the data will be used in recommendations...using non-numeric replacement disallows mathematical functions, using 0 will skew mathematical results, mean or median may be appropriate\n",
    "* Remove image url column "
   ]
  },
  {
   "cell_type": "markdown",
   "metadata": {},
   "source": [
    "# Transformation\n"
   ]
  },
  {
   "cell_type": "markdown",
   "metadata": {},
   "source": [
    "## Null Handling\n",
    "Recommendations for nulls\n",
    "* isbn and isbn13 replace with Missing if a test shows that 1% do exist but aren't listed, replace with None or Unknown if 1% cannot be found\n",
    "* Research original publish years and add values\n",
    "* descriptions replace with Missing\n",
    "* num_pages consider how the data will be used in recommendations...using non-numeric replacement disallows mathematical functions, using 0 will skew mathematical results, mean or median may be appropriate\n",
    "\n",
    "* Significant amount of nulls in started_at, read_at and rating.\n",
    "    * Recommend eliminating started_at and read_at due to lack of relevance to book recommendation.\n",
    "* 3% of rows in rating are null. Propose two options:\n",
    "    * Impute the average rating value of 3.8\n",
    "    * Replace with N/A or None (eliminates mathematical operations for analysis)"
   ]
  },
  {
   "cell_type": "code",
   "execution_count": null,
   "metadata": {
    "execution": {
     "iopub.execute_input": "2025-07-16T19:26:00.857512Z",
     "iopub.status.busy": "2025-07-16T19:26:00.857234Z",
     "iopub.status.idle": "2025-07-16T19:26:00.880239Z",
     "shell.execute_reply": "2025-07-16T19:26:00.879343Z",
     "shell.execute_reply.started": "2025-07-16T19:26:00.857492Z"
    },
    "trusted": true
   },
   "outputs": [],
   "source": [
    "reviews.rating.median()\n",
    "reviews.rating.mean()"
   ]
  },
  {
   "cell_type": "code",
   "execution_count": null,
   "metadata": {
    "execution": {
     "iopub.execute_input": "2025-07-22T14:15:46.601846Z",
     "iopub.status.busy": "2025-07-22T14:15:46.600940Z",
     "iopub.status.idle": "2025-07-22T14:15:46.643441Z",
     "shell.execute_reply": "2025-07-22T14:15:46.642612Z",
     "shell.execute_reply.started": "2025-07-22T14:15:46.601821Z"
    },
    "trusted": true
   },
   "outputs": [],
   "source": [
    "book_list['description']=book_list.description.fillna('Missing')\n",
    "book_list['num_pages']=book_list.num_pages.fillna(0)\n",
    "book_list['num_pages']=book_list.num_pages.fillna(0) #after discussing with my wingman\n",
    "book_list.head()\n",
    "reviews['rating']=reviews.rating.fillna(3.8)\n",
    "reviews.rating.isnull().sum()"
   ]
  },
  {
   "cell_type": "markdown",
   "metadata": {},
   "source": [
    "A-reasearching we go! First up are publication years..."
   ]
  },
  {
   "cell_type": "code",
   "execution_count": null,
   "metadata": {
    "execution": {
     "iopub.execute_input": "2025-07-22T14:16:05.416342Z",
     "iopub.status.busy": "2025-07-22T14:16:05.415543Z",
     "iopub.status.idle": "2025-07-22T14:16:05.437728Z",
     "shell.execute_reply": "2025-07-22T14:16:05.436719Z",
     "shell.execute_reply.started": "2025-07-22T14:16:05.416317Z"
    },
    "trusted": true
   },
   "outputs": [],
   "source": [
    "#book_list.loc[book_list.original_publication_year.isnull()==True]\n",
    "#book_list.original_publication_year[52]=2016\n",
    "book_list.loc[52,'original_publication_year']=2016\n",
    "book_list.loc[52].original_publication_year\n",
    "book_list.loc[239].original_publication_year #result: nan\n",
    "book_list.loc[239,'original_publication_year']=2007\n",
    "book_list.loc[239].original_publication_year #result: 2007 🎉Yay! I'm changing what I want changed!!\n",
    "book_list.loc[291,'original_publication_year']=2008\n",
    "book_list.loc[445,'original_publication_year']=2006\n",
    "book_list.loc[2638,'original_publication_year']=2012\n",
    "book_list.loc[3105,'original_publication_year']=2012\n",
    "book_list.loc[3152,'original_publication_year']=2015\n",
    "book_list.loc[4284,'original_publication_year']=2014\n",
    "book_list.loc[10630,'original_publication_year']=2016\n",
    "book_list.loc[11195,'original_publication_year']=2016\n",
    "book_list.loc[11219,'original_publication_year']=2001\n",
    "book_list.loc[11237,'original_publication_year']=2016\n",
    "book_list.loc[11700,'original_publication_year']=2016\n",
    "book_list.loc[12111,'original_publication_year']=2016\n",
    "book_list.loc[12118,'original_publication_year']=2013\n",
    "book_list.loc[12145,'original_publication_year']=2016\n",
    "book_list.loc[12195,'original_publication_year']=2016\n",
    "book_list.loc[13235,'original_publication_year']=2016\n",
    "#book_list.loc[12235]\n",
    "#book_list.original_publication_year.isnull().sum() #whoops! I had a typo and changed 12235 by mistake to 2016...better check what it should be\n",
    "#book_list.loc[12235,'original_publication_year']=2011 #crisis averted\n",
    "#book_list.loc[12235]"
   ]
  },
  {
   "cell_type": "markdown",
   "metadata": {},
   "source": [
    "Keeping an eye on those last five with missing isbn/isbn13, only one did not have any...it had an ASIN instead\n",
    "Replace isbn and isbn13 NaN with \"Missing\""
   ]
  },
  {
   "cell_type": "code",
   "execution_count": null,
   "metadata": {
    "execution": {
     "iopub.execute_input": "2025-07-22T14:16:12.837040Z",
     "iopub.status.busy": "2025-07-22T14:16:12.836704Z",
     "iopub.status.idle": "2025-07-22T14:16:12.873436Z",
     "shell.execute_reply": "2025-07-22T14:16:12.872752Z",
     "shell.execute_reply.started": "2025-07-22T14:16:12.837004Z"
    },
    "trusted": true
   },
   "outputs": [],
   "source": [
    "book_list['isbn13']=pd.to_numeric(book_list['isbn13'],errors='coerce').fillna(0).astype('int64').astype('string')#guidance from ChatGPT to force isbn13 to behave\n",
    "book_list.isbn13.head()\n",
    "book_list[['isbn','isbn13']]=book_list[['isbn','isbn13']].fillna('Missing')\n",
    "book_list.isbn.head()\n",
    "book_list['isbn13']=book_list['isbn13'].replace('0','Missing')\n",
    "book_list.head()"
   ]
  },
  {
   "cell_type": "markdown",
   "metadata": {},
   "source": [
    "[consulting with ChatGPT about how to update nulls in a column *in situ*](https://chatgpt.com/share/6876aabe-ff4c-8005-b99c-cf045a8c952c)"
   ]
  },
  {
   "cell_type": "markdown",
   "metadata": {},
   "source": [
    "## Data Types"
   ]
  },
  {
   "cell_type": "markdown",
   "metadata": {},
   "source": [
    "* Data type of started_at, read_at and date_added should be changed from int64 to date/time.\n",
    "* Data type of review_id, user_id and review_text should be changed from object to string.\n",
    "* isbn and isbn13 should be same type, can change to int or string\n",
    "* original_publish_year can be changed from float to date/time\n",
    "* num_pages should be changed to int\n",
    "* Description can be changed to string\n",
    "    * Consider removing the \\n coding during transformation"
   ]
  },
  {
   "cell_type": "code",
   "execution_count": null,
   "metadata": {
    "execution": {
     "iopub.execute_input": "2025-07-22T14:16:18.880889Z",
     "iopub.status.busy": "2025-07-22T14:16:18.880542Z",
     "iopub.status.idle": "2025-07-22T14:16:19.003217Z",
     "shell.execute_reply": "2025-07-22T14:16:19.002297Z",
     "shell.execute_reply.started": "2025-07-22T14:16:18.880853Z"
    },
    "trusted": true
   },
   "outputs": [],
   "source": [
    "reviews.review_id.astype(\"string\")\n",
    "reviews.review_text.astype(\"string\")"
   ]
  },
  {
   "cell_type": "markdown",
   "metadata": {},
   "source": [
    "\"One peculiarity to keep in mind (and on display very clearly here) is that columns consisting entirely of strings do not get their own type; they are instead given the object type.\"\n",
    "🤦🏼‍♀️Read Mel"
   ]
  },
  {
   "cell_type": "code",
   "execution_count": null,
   "metadata": {
    "execution": {
     "iopub.execute_input": "2025-07-22T14:16:28.501235Z",
     "iopub.status.busy": "2025-07-22T14:16:28.500947Z",
     "iopub.status.idle": "2025-07-22T14:16:28.524521Z",
     "shell.execute_reply": "2025-07-22T14:16:28.523743Z",
     "shell.execute_reply.started": "2025-07-22T14:16:28.501215Z"
    },
    "trusted": true
   },
   "outputs": [],
   "source": [
    "#book_list.isbn.astype(int) #ValueError: cannot convert float NaN to integer\n",
    "#book_list.isbn.astype(float) #ValueError: could not convert string to float: '080075963X' Fun fact-ISBN check digits are base eleven so they include digits 0-9 and 'X'\n",
    "#book_list.isbn13.astype(float)\n",
    "book_list.isbn.astype(\"string\")\n",
    "#for consistency's sake and because there will be no need for math on ISBN13, let's make it a string too\n",
    "book_list.isbn13.astype(\"string\")"
   ]
  },
  {
   "cell_type": "code",
   "execution_count": null,
   "metadata": {
    "execution": {
     "iopub.execute_input": "2025-07-22T14:16:31.951559Z",
     "iopub.status.busy": "2025-07-22T14:16:31.951219Z",
     "iopub.status.idle": "2025-07-22T14:16:31.961816Z",
     "shell.execute_reply": "2025-07-22T14:16:31.960936Z",
     "shell.execute_reply.started": "2025-07-22T14:16:31.951539Z"
    },
    "trusted": true
   },
   "outputs": [],
   "source": [
    "#book_list.num_pages.astype(int) #IntCastingNaNError: Cannot convert non-finite values (NA or inf) to integer\n",
    "#need to decide what to do about the nulls...for now change them all to 0 because there are no 0 entries > 1 was the min\n",
    "#book_list.loc[book_list.num_pages.isnull()] before ChatGPT discussion\n",
    "book_list['num_pages']=book_list.num_pages.astype(int)\n",
    "book_list['original_publication_year']=book_list.original_publication_year.astype(int)\n",
    "book_list.dtypes"
   ]
  },
  {
   "cell_type": "markdown",
   "metadata": {},
   "source": [
    "Datetime experimentation..."
   ]
  },
  {
   "cell_type": "code",
   "execution_count": null,
   "metadata": {
    "execution": {
     "iopub.status.busy": "2025-07-16T19:26:03.083273Z",
     "iopub.status.idle": "2025-07-16T19:26:03.083521Z",
     "shell.execute_reply": "2025-07-16T19:26:03.083418Z",
     "shell.execute_reply.started": "2025-07-16T19:26:03.083407Z"
    },
    "trusted": true
   },
   "outputs": [],
   "source": [
    "#temp_year=pd.DataFrame({'Year':book_list.original_publication_year.copy()})\n",
    "#temp_year.Year.astype(str)\n",
    "#pd.to_datetime('Year',yearfirst=True,format=\"mixed\")"
   ]
  },
  {
   "cell_type": "markdown",
   "metadata": {},
   "source": [
    "We are throwing a fit because we do not recognize a year on its own to parse as a date. There isn't a good reason except for \"but it's time!\" to convert it from an int, so I'm crawling out of this rabbit hole."
   ]
  },
  {
   "cell_type": "markdown",
   "metadata": {},
   "source": [
    "## Standardization\n",
    "Inspect what you expect and expect what you inspect"
   ]
  },
  {
   "cell_type": "code",
   "execution_count": null,
   "metadata": {
    "execution": {
     "iopub.execute_input": "2025-07-22T14:16:46.541621Z",
     "iopub.status.busy": "2025-07-22T14:16:46.540642Z",
     "iopub.status.idle": "2025-07-22T14:16:46.734503Z",
     "shell.execute_reply": "2025-07-22T14:16:46.733593Z",
     "shell.execute_reply.started": "2025-07-22T14:16:46.541597Z"
    },
    "trusted": true
   },
   "outputs": [],
   "source": [
    "#reviews.head()\n",
    "#reviews.loc[reviews.started_at.notnull()]\n",
    "reviews=reviews.rename(columns={'started_at': 'started','read_at':'finished','date_added':'review_added','review_text': 'review','n_votes': 'num_votes','n_comments':'num_comments'})"
   ]
  },
  {
   "cell_type": "code",
   "execution_count": null,
   "metadata": {
    "execution": {
     "iopub.execute_input": "2025-07-22T14:16:50.341526Z",
     "iopub.status.busy": "2025-07-22T14:16:50.340726Z",
     "iopub.status.idle": "2025-07-22T14:16:50.489794Z",
     "shell.execute_reply": "2025-07-22T14:16:50.489034Z",
     "shell.execute_reply.started": "2025-07-22T14:16:50.341501Z"
    },
    "trusted": true
   },
   "outputs": [],
   "source": [
    "book_list.head()\n",
    "book_list=book_list.drop('image_url',axis=1)\n",
    "reviews=reviews.drop(['started','finished'],axis=1)\n",
    "\n",
    "book_list=book_list.rename(columns={'original_title':'title','reviews_count':'total_reviews','text_reviews_count':'num_written_reviews','5_star_ratings':'5stars','4_star_ratings':'4stars','3_star_ratings':'3stars','2_star_ratings':'2stars','1_star_ratings':'1star','ratings_count':'total_ratings'})\n",
    "book_list.head()"
   ]
  },
  {
   "cell_type": "markdown",
   "metadata": {},
   "source": []
  },
  {
   "cell_type": "markdown",
   "metadata": {},
   "source": [
    "## Normalization"
   ]
  },
  {
   "cell_type": "code",
   "execution_count": null,
   "metadata": {
    "execution": {
     "iopub.execute_input": "2025-07-22T14:17:02.662462Z",
     "iopub.status.busy": "2025-07-22T14:17:02.661184Z",
     "iopub.status.idle": "2025-07-22T14:17:02.699223Z",
     "shell.execute_reply": "2025-07-22T14:17:02.697754Z",
     "shell.execute_reply.started": "2025-07-22T14:17:02.662414Z"
    },
    "trusted": true
   },
   "outputs": [],
   "source": [
    "#temp=book_list.copy() before I break anything, let's experiment on a copy\n",
    "book_list['description']=book_list['description'].str.strip()\n",
    "book_list['title']=book_list['title'].str.strip()\n",
    "book_list['author']=book_list['author'].str.strip()\n",
    "book_list['genres']=book_list['genres'].str.strip()\n",
    "book_list.head()"
   ]
  },
  {
   "cell_type": "markdown",
   "metadata": {},
   "source": [
    "Using a temp df again to experiment with 'extract' to get the \".0\" off the end of isbn13"
   ]
  },
  {
   "cell_type": "code",
   "execution_count": null,
   "metadata": {
    "execution": {
     "iopub.execute_input": "2025-07-16T19:58:35.435644Z",
     "iopub.status.busy": "2025-07-16T19:58:35.435341Z",
     "iopub.status.idle": "2025-07-16T19:58:35.443137Z",
     "shell.execute_reply": "2025-07-16T19:58:35.441891Z",
     "shell.execute_reply.started": "2025-07-16T19:58:35.435621Z"
    },
    "trusted": true
   },
   "outputs": [],
   "source": [
    "#temp=book_list.copy()\n",
    "#temp['isbn13']=temp.isbn13.replace('Missing',0)\n",
    "#temp.isbn13.astype('int64') #python is refusing to convert the ISBN13 to a string, it only treats it as a float\n",
    "\n",
    "#temp.isbn13.str.extract(r\"(['.0'])\")\n",
    "#temp.isbn13.str.rsplit('.',expand=True)\n",
    "#temp['isbn13']=temp['isbn13'].str[:-2]\n",
    "#temp.loc[2]\n",
    "#temp['isbn13']=temp['isbn13'].str.rstrip()\n",
    "#temp.loc[2]\n",
    "#temp['isbn13'].apply(str).value_counts()\n",
    "#temp['isbn13'].apply(lambda x:type(x)).value_counts()\n",
    "#temp.isbn13.dtype\n",
    "#temp['isbn13'].apply(lambda x:str(x))\n",
    "#temp['isbn13'].apply(lambda x:f\"{x:.0f})\n",
    "#temp['isbn13']=temp.isbn13.replace(0,'Missing') #does not replace\n",
    "\n",
    "#print(temp['isbn13'])"
   ]
  },
  {
   "cell_type": "markdown",
   "metadata": {},
   "source": [
    "**WTF Mate?**\n",
    "In the code cell above, I was having issues. Looking back, I think I screwed everything up by converting the float directly to string without the int intermediary. The data was carrying a '.0' that it refused to get rid of despite all my efforts. I researched the internet on my own and even created a [separate testing notebook](https://www.kaggle.com/code/melisandefritzsche/testing) to use for testing concepts and troubleshooting. At a loss, I consulted with my AI partner.\n",
    "[ChatGPT consultation](https://chatgpt.com/share/6879014b-ffe0-8005-9a77-cf04c80b590f)\n",
    "*Solution*\n",
    "I implemented the solution up in the [null handling](https://www.kaggle.com/code/melisandefritzsche/bookshelf-challenge/edit/run/250847672#Null-Handling) section."
   ]
  },
  {
   "cell_type": "code",
   "execution_count": null,
   "metadata": {
    "execution": {
     "iopub.execute_input": "2025-07-22T14:17:21.021365Z",
     "iopub.status.busy": "2025-07-22T14:17:21.021076Z",
     "iopub.status.idle": "2025-07-22T14:17:21.154579Z",
     "shell.execute_reply": "2025-07-22T14:17:21.153703Z",
     "shell.execute_reply.started": "2025-07-22T14:17:21.021347Z"
    },
    "trusted": true
   },
   "outputs": [],
   "source": [
    "book_list=book_list.set_index('work_id')\n",
    "reviews=reviews.set_index('review_id')"
   ]
  },
  {
   "cell_type": "markdown",
   "metadata": {},
   "source": [
    "## Splitting and Extracting"
   ]
  },
  {
   "cell_type": "markdown",
   "metadata": {},
   "source": [
    "separating the genre lists into individual genres will assist in grouping"
   ]
  },
  {
   "cell_type": "code",
   "execution_count": null,
   "metadata": {
    "execution": {
     "iopub.execute_input": "2025-07-22T14:17:54.680841Z",
     "iopub.status.busy": "2025-07-22T14:17:54.680524Z",
     "iopub.status.idle": "2025-07-22T14:17:54.704283Z",
     "shell.execute_reply": "2025-07-22T14:17:54.703434Z",
     "shell.execute_reply.started": "2025-07-22T14:17:54.680821Z"
    },
    "trusted": true
   },
   "outputs": [],
   "source": [
    "genres=book_list.copy()\n",
    "genres.shape\n",
    "book_list.head()\n",
    "#genre_split=genres['genres'].str.split(',',expand=True)\n",
    "#genre_split\n",
    "#genre_split=genres['genres'].str.split(',').explode('genres').reset_index                                                \n",
    "#genre_split"
   ]
  },
  {
   "cell_type": "markdown",
   "metadata": {},
   "source": [
    "I am going to try to insert the unexpanded list version of the string into the column using replace and then explode it"
   ]
  },
  {
   "cell_type": "code",
   "execution_count": null,
   "metadata": {
    "execution": {
     "iopub.execute_input": "2025-07-22T14:17:58.261572Z",
     "iopub.status.busy": "2025-07-22T14:17:58.260726Z",
     "iopub.status.idle": "2025-07-22T14:17:58.420774Z",
     "shell.execute_reply": "2025-07-22T14:17:58.419910Z",
     "shell.execute_reply.started": "2025-07-22T14:17:58.261549Z"
    },
    "trusted": true
   },
   "outputs": [],
   "source": [
    "genres['genres']=genres['genres'].str.split(',')\n",
    "genres.head()"
   ]
  },
  {
   "cell_type": "code",
   "execution_count": null,
   "metadata": {
    "execution": {
     "iopub.execute_input": "2025-07-22T14:18:11.571166Z",
     "iopub.status.busy": "2025-07-22T14:18:11.570813Z",
     "iopub.status.idle": "2025-07-22T14:18:11.631375Z",
     "shell.execute_reply": "2025-07-22T14:18:11.630453Z",
     "shell.execute_reply.started": "2025-07-22T14:18:11.571145Z"
    },
    "trusted": true
   },
   "outputs": [],
   "source": [
    "genres_spl=genres.explode('genres')\n",
    "genres_spl"
   ]
  },
  {
   "cell_type": "markdown",
   "metadata": {},
   "source": [
    "🤩**I WIN!**"
   ]
  },
  {
   "cell_type": "code",
   "execution_count": null,
   "metadata": {
    "execution": {
     "iopub.execute_input": "2025-07-22T14:18:16.546910Z",
     "iopub.status.busy": "2025-07-22T14:18:16.546053Z",
     "iopub.status.idle": "2025-07-22T14:18:16.628093Z",
     "shell.execute_reply": "2025-07-22T14:18:16.627313Z",
     "shell.execute_reply.started": "2025-07-22T14:18:16.546873Z"
    },
    "trusted": true
   },
   "outputs": [],
   "source": [
    "genres_spl.genres.value_counts()#checking for duplicates\n",
    "genres_spl['genres']=genres_spl.genres.str.strip() #previously did not have the genres_spl['genres']=...learning curve observation-I need to get used to syntax for Python just doing a thing versus Pythong doing the thing and keeping it done\n",
    "#genres_spl.reindex()\n",
    "#genres_spl.head()\n",
    "genres_spl.groupby('genres').count().sort_values(by='title',ascending=False)"
   ]
  },
  {
   "cell_type": "code",
   "execution_count": null,
   "metadata": {
    "execution": {
     "iopub.execute_input": "2025-07-22T14:18:39.337502Z",
     "iopub.status.busy": "2025-07-22T14:18:39.337010Z",
     "iopub.status.idle": "2025-07-22T14:18:39.356723Z",
     "shell.execute_reply": "2025-07-22T14:18:39.355464Z",
     "shell.execute_reply.started": "2025-07-22T14:18:39.337472Z"
    },
    "trusted": true
   },
   "outputs": [],
   "source": [
    "#genres_spl=genres_spl.set_index('work_id') #after adding the index set to book_list, this is unneccesary"
   ]
  },
  {
   "cell_type": "markdown",
   "metadata": {},
   "source": [
    "Just in case for filtering (and for coding practice) I am going to split the author field into first and last name as well."
   ]
  },
  {
   "cell_type": "code",
   "execution_count": null,
   "metadata": {
    "execution": {
     "iopub.execute_input": "2025-07-22T14:21:30.686204Z",
     "iopub.status.busy": "2025-07-22T14:21:30.684361Z",
     "iopub.status.idle": "2025-07-22T14:21:30.762697Z",
     "shell.execute_reply": "2025-07-22T14:21:30.761587Z",
     "shell.execute_reply.started": "2025-07-22T14:21:30.686137Z"
    },
    "trusted": true
   },
   "outputs": [],
   "source": [
    "temp=book_list.copy()\n",
    "temp1=temp.author.str.rsplit(' ',n=1,expand=True) #I did something last time -I accidentally undid all my previous work- and inserted the new columns into the original list so I am being redundant as a form of caution\n",
    "temp1.head()\n",
    "temp.head()\n",
    "author_spl=temp\n",
    "author_spl.insert(4,'first_name',temp1[0])\n",
    "author_spl.insert(5,'last_name',temp1[1])\n",
    "author_spl"
   ]
  },
  {
   "cell_type": "code",
   "execution_count": null,
   "metadata": {
    "execution": {
     "iopub.execute_input": "2025-07-22T14:21:52.602785Z",
     "iopub.status.busy": "2025-07-22T14:21:52.601373Z",
     "iopub.status.idle": "2025-07-22T14:21:52.618533Z",
     "shell.execute_reply": "2025-07-22T14:21:52.617318Z",
     "shell.execute_reply.started": "2025-07-22T14:21:52.602756Z"
    },
    "trusted": true
   },
   "outputs": [],
   "source": [
    "#author_spl.dtypes\n",
    "#author_spl.original_publication_year.astype(int)\n",
    "author_spl=author_spl.rename(columns={'original_publication_year':'year'})"
   ]
  },
  {
   "cell_type": "code",
   "execution_count": null,
   "metadata": {
    "execution": {
     "iopub.execute_input": "2025-07-21T19:10:55.181211Z",
     "iopub.status.busy": "2025-07-21T19:10:55.180789Z",
     "iopub.status.idle": "2025-07-21T19:10:55.199360Z",
     "shell.execute_reply": "2025-07-21T19:10:55.198141Z",
     "shell.execute_reply.started": "2025-07-21T19:10:55.181155Z"
    },
    "trusted": true
   },
   "outputs": [],
   "source": [
    "#author_pl=author_spl.set_index('work_id')"
   ]
  },
  {
   "cell_type": "markdown",
   "metadata": {},
   "source": [
    "## Merging and Joining"
   ]
  },
  {
   "cell_type": "code",
   "execution_count": null,
   "metadata": {
    "execution": {
     "iopub.execute_input": "2025-07-22T14:23:04.474060Z",
     "iopub.status.busy": "2025-07-22T14:23:04.473650Z",
     "iopub.status.idle": "2025-07-22T14:23:04.722170Z",
     "shell.execute_reply": "2025-07-22T14:23:04.721375Z",
     "shell.execute_reply.started": "2025-07-22T14:23:04.474038Z"
    },
    "trusted": true
   },
   "outputs": [],
   "source": [
    "#book_list=book_list.set_index('work_id')\n",
    "#reviews=reviews.set_index('work_id')\n",
    "\n",
    "all_data=book_list.join(reviews)"
   ]
  },
  {
   "cell_type": "markdown",
   "metadata": {},
   "source": [
    "*Line in the Sand*\n",
    "I fully admit that this is not the most efficient way to do things, but my lack of experience with Python and non-math-related analysis goals (I'm curating a book list so to my mind that basically means I'm going to be filtering and sorting. As opposed to giving statistical descriptions or predicting stuff.)\n",
    "Anyway, I am stopping here with five total data frames to use.\n",
    "1. all_data - everything joined together\n",
    "2. book_list - just the book information\n",
    "3. reviews - just the review information\n",
    "4. genres_spl - table with all genres split out\n",
    "5. author_spl - table with authors' first and last names split"
   ]
  },
  {
   "cell_type": "markdown",
   "metadata": {},
   "source": [
    "# Analysis"
   ]
  },
  {
   "cell_type": "markdown",
   "metadata": {},
   "source": [
    "## Functions\n",
    "\n",
    "This whole \"build a tool\" thing has me a bit confused. I am thinking that I will have a Q&A (not NLP) where I obtain information from the user and then spit out their result. Therefore, I will need helper function to take particular actions like filtering. I should probably define the functionality so that my scope is clear.\n",
    "\n",
    "* Get how many books the user wants on the list per this query.\n",
    "* \"Surprise Me!\": random number generator to pick books by their work_id\n",
    "* Get preferences - fiction/non-fiction, author, genre\n",
    "* Filters"
   ]
  },
  {
   "cell_type": "code",
   "execution_count": null,
   "metadata": {
    "execution": {
     "iopub.execute_input": "2025-07-22T14:23:34.794667Z",
     "iopub.status.busy": "2025-07-22T14:23:34.794372Z",
     "iopub.status.idle": "2025-07-22T14:23:38.657612Z",
     "shell.execute_reply": "2025-07-22T14:23:38.656801Z",
     "shell.execute_reply.started": "2025-07-22T14:23:34.794644Z"
    },
    "trusted": true
   },
   "outputs": [],
   "source": [
    "def get_num_books():\n",
    "    print('How many books would you like on your reading list?')\n",
    "    num_books=input('Enter a number less than 13,524:')\n",
    "    return num_books\n",
    "get_num_books()"
   ]
  },
  {
   "cell_type": "code",
   "execution_count": null,
   "metadata": {
    "execution": {
     "iopub.execute_input": "2025-07-22T14:23:50.514602Z",
     "iopub.status.busy": "2025-07-22T14:23:50.514326Z",
     "iopub.status.idle": "2025-07-22T14:23:50.521723Z",
     "shell.execute_reply": "2025-07-22T14:23:50.520922Z",
     "shell.execute_reply.started": "2025-07-22T14:23:50.514586Z"
    },
    "trusted": true
   },
   "outputs": [],
   "source": [
    "def surprise_me(num_books):\n",
    "    \n",
    "    reading_list=random.sample(range(0,13525),k=(num_books))\n",
    "    return reading_list\n",
    "\n",
    "surprise_me(5)"
   ]
  },
  {
   "cell_type": "code",
   "execution_count": null,
   "metadata": {
    "execution": {
     "iopub.execute_input": "2025-07-22T14:23:54.840893Z",
     "iopub.status.busy": "2025-07-22T14:23:54.839810Z",
     "iopub.status.idle": "2025-07-22T14:23:54.862812Z",
     "shell.execute_reply": "2025-07-22T14:23:54.861847Z",
     "shell.execute_reply.started": "2025-07-22T14:23:54.840842Z"
    },
    "trusted": true
   },
   "outputs": [],
   "source": [
    "books=surprise_me(3)\n",
    "temp=book_list.sort_values(by='total_reviews',ascending=False)\n",
    "print('SURPRISE!! Happy reading!')\n",
    "temp.iloc[books,lambda temp:[2,3,6,7]]"
   ]
  },
  {
   "cell_type": "markdown",
   "metadata": {},
   "source": [
    "Take *that*, Python! 😤"
   ]
  },
  {
   "cell_type": "code",
   "execution_count": null,
   "metadata": {
    "execution": {
     "iopub.execute_input": "2025-07-21T16:08:24.426655Z",
     "iopub.status.busy": "2025-07-21T16:08:24.426188Z",
     "iopub.status.idle": "2025-07-21T16:08:24.458890Z",
     "shell.execute_reply": "2025-07-21T16:08:24.456811Z",
     "shell.execute_reply.started": "2025-07-21T16:08:24.426617Z"
    },
    "trusted": true
   },
   "outputs": [],
   "source": [
    "book_list.sort_values(by='total_reviews',ascending=False) #This is how I'd sort my temp list if it were cleaned up and everything. Every time I go back and rerun my code I wind up breaking something so..."
   ]
  },
  {
   "cell_type": "markdown",
   "metadata": {},
   "source": [
    "## Visualization in Python\n",
    "Exploring what matplotlib has to offer. Also, instead of stumbling about, I took the Kaggle Data Visualization course and learned about seaborn."
   ]
  },
  {
   "cell_type": "code",
   "execution_count": null,
   "metadata": {
    "execution": {
     "iopub.execute_input": "2025-07-22T14:32:56.874584Z",
     "iopub.status.busy": "2025-07-22T14:32:56.874319Z",
     "iopub.status.idle": "2025-07-22T14:32:56.932377Z",
     "shell.execute_reply": "2025-07-22T14:32:56.931222Z",
     "shell.execute_reply.started": "2025-07-22T14:32:56.874567Z"
    },
    "trusted": true
   },
   "outputs": [],
   "source": [
    "genres_spl.sort_values(by='total_ratings',ascending=False)"
   ]
  },
  {
   "cell_type": "code",
   "execution_count": null,
   "metadata": {
    "execution": {
     "iopub.execute_input": "2025-07-22T14:57:53.135988Z",
     "iopub.status.busy": "2025-07-22T14:57:53.135580Z",
     "iopub.status.idle": "2025-07-22T14:57:56.422102Z",
     "shell.execute_reply": "2025-07-22T14:57:56.421075Z",
     "shell.execute_reply.started": "2025-07-22T14:57:53.135965Z"
    },
    "trusted": true
   },
   "outputs": [],
   "source": [
    "sns.scatterplot(x='avg_rating',y='total_reviews',data=genres_spl,hue='genres')\n",
    "plt.title('Average Rating by Genre')\n",
    "plt.xlabel('Avg Rating')\n",
    "plt.ylabel('Total Reviews')\n",
    "plt.legend(loc='upper right',bbox_to_anchor=(1.35,1))\n",
    "#researched the interwebs and copied but edited\n",
    "def M_formatter(x, pos):\n",
    "    \"\"\"The function formats the tick labels to display in millions.\"\"\"\n",
    "    return f'{x / 1_000_000:.1f}M'\n",
    "plt.gca().yaxis.set_major_formatter(ticker.FuncFormatter(M_formatter))"
   ]
  },
  {
   "cell_type": "markdown",
   "metadata": {},
   "source": [
    "Huh. Looks like romance and crime/thriller get reviewed the most and get reviewed highly on average. Young adult and fiction are highest rated even with less overall reviews. That tracks."
   ]
  },
  {
   "cell_type": "code",
   "execution_count": null,
   "metadata": {
    "execution": {
     "iopub.execute_input": "2025-07-22T16:42:15.374238Z",
     "iopub.status.busy": "2025-07-22T16:42:15.373735Z",
     "iopub.status.idle": "2025-07-22T16:42:15.450559Z",
     "shell.execute_reply": "2025-07-22T16:42:15.449456Z",
     "shell.execute_reply.started": "2025-07-22T16:42:15.374211Z"
    },
    "trusted": true
   },
   "outputs": [],
   "source": [
    "sns.scatterplot(x='avg_rating',y='ratings_count',data=genres_spl,hue='genres')\n",
    "plt.title('Average Rating by Genre')\n",
    "plt.xlabel('Avg Rating')\n",
    "plt.ylabel('Total Reviews')\n",
    "plt.legend(loc='upper right',bbox_to_anchor=(1.35,1))\n",
    "#researched the interwebs and copied but edited\n",
    "def M_formatter(x, pos):\n",
    "    \"\"\"The function formats the tick labels to display in millions.\"\"\"\n",
    "    return f'{x / 1_000_000:.1f}M'\n",
    "plt.gca().yaxis.set_major_formatter(ticker.FuncFormatter(M_formatter))"
   ]
  },
  {
   "cell_type": "code",
   "execution_count": null,
   "metadata": {
    "execution": {
     "iopub.execute_input": "2025-07-22T15:53:37.270054Z",
     "iopub.status.busy": "2025-07-22T15:53:37.269716Z",
     "iopub.status.idle": "2025-07-22T15:53:38.096230Z",
     "shell.execute_reply": "2025-07-22T15:53:38.095240Z",
     "shell.execute_reply.started": "2025-07-22T15:53:37.270032Z"
    },
    "trusted": true
   },
   "outputs": [],
   "source": [
    "sns.barplot(x=book_list.avg_rating,y=book_list.num_pages)\n"
   ]
  },
  {
   "cell_type": "code",
   "execution_count": null,
   "metadata": {
    "execution": {
     "iopub.execute_input": "2025-07-22T15:53:53.816724Z",
     "iopub.status.busy": "2025-07-22T15:53:53.815708Z",
     "iopub.status.idle": "2025-07-22T15:53:54.002837Z",
     "shell.execute_reply": "2025-07-22T15:53:54.001938Z",
     "shell.execute_reply.started": "2025-07-22T15:53:53.816679Z"
    },
    "trusted": true
   },
   "outputs": [],
   "source": [
    "sns.histplot(x=book_list.avg_rating,y=book_list.num_pages)"
   ]
  },
  {
   "cell_type": "code",
   "execution_count": null,
   "metadata": {
    "execution": {
     "iopub.execute_input": "2025-07-22T15:56:26.742355Z",
     "iopub.status.busy": "2025-07-22T15:56:26.741422Z",
     "iopub.status.idle": "2025-07-22T15:56:26.762287Z",
     "shell.execute_reply": "2025-07-22T15:56:26.761005Z",
     "shell.execute_reply.started": "2025-07-22T15:56:26.742330Z"
    },
    "trusted": true
   },
   "outputs": [],
   "source": []
  }
 ],
 "metadata": {
  "kaggle": {
   "accelerator": "none",
   "dataSources": [
    {
     "datasetId": 7858187,
     "sourceId": 12459366,
     "sourceType": "datasetVersion"
    }
   ],
   "dockerImageVersionId": 31089,
   "isGpuEnabled": false,
   "isInternetEnabled": true,
   "language": "python",
   "sourceType": "notebook"
  },
  "kernelspec": {
   "display_name": "base",
   "language": "python",
   "name": "python3"
  },
  "language_info": {
   "codemirror_mode": {
    "name": "ipython",
    "version": 3
   },
   "file_extension": ".py",
   "mimetype": "text/x-python",
   "name": "python",
   "nbconvert_exporter": "python",
   "pygments_lexer": "ipython3",
   "version": "3.13.5"
  }
 },
 "nbformat": 4,
 "nbformat_minor": 4
}
